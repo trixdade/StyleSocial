{
 "cells": [
  {
   "cell_type": "code",
   "execution_count": 1,
   "metadata": {},
   "outputs": [],
   "source": []
  },
  {
   "cell_type": "code",
   "execution_count": 2,
   "metadata": {},
   "outputs": [
    {
     "name": "stderr",
     "output_type": "stream",
     "text": [
      "c:\\Users\\local\\Documents\\Roma_thesis\\StyleSocial\\venv\\lib\\site-packages\\torchvision\\models\\_utils.py:208: UserWarning: The parameter 'pretrained' is deprecated since 0.13 and may be removed in the future, please use 'weights' instead.\n",
      "  warnings.warn(\n",
      "c:\\Users\\local\\Documents\\Roma_thesis\\StyleSocial\\venv\\lib\\site-packages\\torchvision\\models\\_utils.py:223: UserWarning: Arguments other than a weight enum or `None` for 'weights' are deprecated since 0.13 and may be removed in the future. The current behavior is equivalent to passing `weights=ResNet18_Weights.IMAGENET1K_V1`. You can also use `weights=ResNet18_Weights.DEFAULT` to get the most up-to-date weights.\n",
      "  warnings.warn(msg)\n"
     ]
    }
   ],
   "source": [
    "\n"
   ]
  },
  {
   "cell_type": "code",
   "execution_count": 5,
   "metadata": {},
   "outputs": [
    {
     "name": "stderr",
     "output_type": "stream",
     "text": [
      "c:\\Users\\local\\Documents\\Roma_thesis\\StyleSocial\\venv\\lib\\site-packages\\torchvision\\models\\_utils.py:208: UserWarning: The parameter 'pretrained' is deprecated since 0.13 and may be removed in the future, please use 'weights' instead.\n",
      "  warnings.warn(\n",
      "c:\\Users\\local\\Documents\\Roma_thesis\\StyleSocial\\venv\\lib\\site-packages\\torchvision\\models\\_utils.py:223: UserWarning: Arguments other than a weight enum or `None` for 'weights' are deprecated since 0.13 and may be removed in the future. The current behavior is equivalent to passing `weights=ResNet18_Weights.IMAGENET1K_V1`. You can also use `weights=ResNet18_Weights.DEFAULT` to get the most up-to-date weights.\n",
      "  warnings.warn(msg)\n",
      "100%|██████████| 20191/20191 [13:14<00:00, 25.40it/s]\n"
     ]
    }
   ],
   "source": [
    "import torch\n",
    "from PIL import Image\n",
    "import os\n",
    "from tqdm import tqdm\n",
    "from PIL import Image\n",
    "import numpy as np\n",
    "\n",
    "import sys\n",
    "sys.path.append('../models/')\n",
    "from feature_extraction import FeatureExtractor\n",
    "\n",
    "\n",
    "img2vec = FeatureExtractor(cuda=True)\n",
    "\n",
    "attachments_path = '../data/items_images_copy/'\n",
    "embeddings = {}\n",
    "# Loop through the category folders \n",
    "for category in tqdm(os.listdir(attachments_path)):\n",
    "    category_path = attachments_path + '/' + category\n",
    "    \n",
    "    # Get all images in the category folder\n",
    "    image_paths = [category_path + '/' + f for f in os.listdir(category_path) if f.endswith('.jpg')]\n",
    "\n",
    "    attachments_num = len(image_paths)\n",
    "    alpha = 1 / attachments_num\n",
    "    item_embed = torch.zeros(512)\n",
    "    for image_path in image_paths:\n",
    "        image = Image.open(image_path)\n",
    "        vec = img2vec.get_vec(image)\n",
    "        vec = alpha * vec.squeeze().cpu()\n",
    "        item_embed += vec\n",
    "    \n",
    "    embeddings[os.path.basename(category)] = item_embed  \n",
    "\n",
    "        \n",
    "# Save embeddings dict to file \n",
    "torch.save(embeddings, f'items_embeddings_resnet.pt') \n"
   ]
  },
  {
   "cell_type": "code",
   "execution_count": null,
   "metadata": {},
   "outputs": [],
   "source": []
  }
 ],
 "metadata": {
  "kernelspec": {
   "display_name": "venv",
   "language": "python",
   "name": "python3"
  },
  "language_info": {
   "codemirror_mode": {
    "name": "ipython",
    "version": 3
   },
   "file_extension": ".py",
   "mimetype": "text/x-python",
   "name": "python",
   "nbconvert_exporter": "python",
   "pygments_lexer": "ipython3",
   "version": "3.8.10"
  },
  "orig_nbformat": 4
 },
 "nbformat": 4,
 "nbformat_minor": 2
}
