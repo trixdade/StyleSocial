{
 "cells": [
  {
   "cell_type": "code",
   "execution_count": 18,
   "metadata": {},
   "outputs": [],
   "source": [
    "import pandas as pd\n",
    "import numpy as np\n",
    "from tqdm.notebook import tqdm\n",
    "from tqdm import tqdm\n",
    "tqdm.pandas()"
   ]
  },
  {
   "cell_type": "code",
   "execution_count": 2,
   "metadata": {},
   "outputs": [],
   "source": [
    "items = pd.read_parquet('../data/processed/items.parquet.gzip')\n",
    "users = pd.read_parquet('../data/processed/users.parquet.gzip')"
   ]
  },
  {
   "cell_type": "code",
   "execution_count": 3,
   "metadata": {},
   "outputs": [
    {
     "data": {
      "text/html": [
       "<div>\n",
       "<style scoped>\n",
       "    .dataframe tbody tr th:only-of-type {\n",
       "        vertical-align: middle;\n",
       "    }\n",
       "\n",
       "    .dataframe tbody tr th {\n",
       "        vertical-align: top;\n",
       "    }\n",
       "\n",
       "    .dataframe thead th {\n",
       "        text-align: right;\n",
       "    }\n",
       "</style>\n",
       "<table border=\"1\" class=\"dataframe\">\n",
       "  <thead>\n",
       "    <tr style=\"text-align: right;\">\n",
       "      <th></th>\n",
       "      <th>id</th>\n",
       "      <th>photo</th>\n",
       "      <th>sex</th>\n",
       "      <th>city</th>\n",
       "      <th>country</th>\n",
       "      <th>likes</th>\n",
       "      <th>weighted_age</th>\n",
       "    </tr>\n",
       "  </thead>\n",
       "  <tbody>\n",
       "    <tr>\n",
       "      <th>0</th>\n",
       "      <td>11946</td>\n",
       "      <td>https://sun6-22.userapi.com/s/v1/ig2/KGV4KtNi0...</td>\n",
       "      <td>1</td>\n",
       "      <td>Санкт-Петербург</td>\n",
       "      <td>Россия</td>\n",
       "      <td>8</td>\n",
       "      <td>35</td>\n",
       "    </tr>\n",
       "    <tr>\n",
       "      <th>1</th>\n",
       "      <td>62102</td>\n",
       "      <td>https://sun6-21.userapi.com/s/v1/ig2/iu0M-ERxn...</td>\n",
       "      <td>1</td>\n",
       "      <td>Москва</td>\n",
       "      <td>Россия</td>\n",
       "      <td>9</td>\n",
       "      <td>35</td>\n",
       "    </tr>\n",
       "    <tr>\n",
       "      <th>2</th>\n",
       "      <td>662418</td>\n",
       "      <td>https://sun6-21.userapi.com/s/v1/if2/gxSDA6_Q6...</td>\n",
       "      <td>2</td>\n",
       "      <td>Hong Kong</td>\n",
       "      <td>Китай</td>\n",
       "      <td>16</td>\n",
       "      <td>35</td>\n",
       "    </tr>\n",
       "  </tbody>\n",
       "</table>\n",
       "</div>"
      ],
      "text/plain": [
       "       id                                              photo  sex   \n",
       "0   11946  https://sun6-22.userapi.com/s/v1/ig2/KGV4KtNi0...    1  \\\n",
       "1   62102  https://sun6-21.userapi.com/s/v1/ig2/iu0M-ERxn...    1   \n",
       "2  662418  https://sun6-21.userapi.com/s/v1/if2/gxSDA6_Q6...    2   \n",
       "\n",
       "              city country  likes  weighted_age  \n",
       "0  Санкт-Петербург  Россия      8            35  \n",
       "1           Москва  Россия      9            35  \n",
       "2        Hong Kong   Китай     16            35  "
      ]
     },
     "execution_count": 3,
     "metadata": {},
     "output_type": "execute_result"
    }
   ],
   "source": [
    "users.head(3)"
   ]
  },
  {
   "cell_type": "code",
   "execution_count": 3,
   "metadata": {},
   "outputs": [
    {
     "data": {
      "text/html": [
       "<div>\n",
       "<style scoped>\n",
       "    .dataframe tbody tr th:only-of-type {\n",
       "        vertical-align: middle;\n",
       "    }\n",
       "\n",
       "    .dataframe tbody tr th {\n",
       "        vertical-align: top;\n",
       "    }\n",
       "\n",
       "    .dataframe thead th {\n",
       "        text-align: right;\n",
       "    }\n",
       "</style>\n",
       "<table border=\"1\" class=\"dataframe\">\n",
       "  <thead>\n",
       "    <tr style=\"text-align: right;\">\n",
       "      <th></th>\n",
       "      <th>id</th>\n",
       "      <th>owner_id</th>\n",
       "      <th>date</th>\n",
       "      <th>text</th>\n",
       "      <th>likes</th>\n",
       "      <th>reposts</th>\n",
       "      <th>attachments</th>\n",
       "      <th>likers</th>\n",
       "      <th>unique_id</th>\n",
       "    </tr>\n",
       "  </thead>\n",
       "  <tbody>\n",
       "    <tr>\n",
       "      <th>0</th>\n",
       "      <td>24666</td>\n",
       "      <td>-196395451</td>\n",
       "      <td>2023-04-07 12:05:01</td>\n",
       "      <td>топ wb😻</td>\n",
       "      <td>80</td>\n",
       "      <td>48</td>\n",
       "      <td>['https://sun6-21.userapi.com/impg/ttKRrIk8GGM...</td>\n",
       "      <td>[233973847, 272906420, 688902085, 722284040, 4...</td>\n",
       "      <td>24666-196395451</td>\n",
       "    </tr>\n",
       "    <tr>\n",
       "      <th>1</th>\n",
       "      <td>24658</td>\n",
       "      <td>-196395451</td>\n",
       "      <td>2023-04-06 18:05:00</td>\n",
       "      <td>серьги wb🦋</td>\n",
       "      <td>43</td>\n",
       "      <td>18</td>\n",
       "      <td>['https://sun6-23.userapi.com/impg/RRRCvHmln_a...</td>\n",
       "      <td>[625436056, 331203972, 367510803, 360551718, 2...</td>\n",
       "      <td>24658-196395451</td>\n",
       "    </tr>\n",
       "    <tr>\n",
       "      <th>2</th>\n",
       "      <td>24642</td>\n",
       "      <td>-196395451</td>\n",
       "      <td>2023-04-05 18:05:00</td>\n",
       "      <td>топ wb💗</td>\n",
       "      <td>108</td>\n",
       "      <td>107</td>\n",
       "      <td>['https://sun6-22.userapi.com/impg/O3fHlE6heq0...</td>\n",
       "      <td>[272906420, 653691291, 275786983, 534111598, 2...</td>\n",
       "      <td>24642-196395451</td>\n",
       "    </tr>\n",
       "    <tr>\n",
       "      <th>3</th>\n",
       "      <td>24637</td>\n",
       "      <td>-196395451</td>\n",
       "      <td>2023-04-05 16:05:00</td>\n",
       "      <td>платье wb🤤</td>\n",
       "      <td>63</td>\n",
       "      <td>141</td>\n",
       "      <td>['https://sun6-21.userapi.com/impg/TEbkmBMtxDN...</td>\n",
       "      <td>[532433339, 164663002, 543132528, 381103880, 2...</td>\n",
       "      <td>24637-196395451</td>\n",
       "    </tr>\n",
       "    <tr>\n",
       "      <th>4</th>\n",
       "      <td>24616</td>\n",
       "      <td>-196395451</td>\n",
       "      <td>2023-04-04 18:45:00</td>\n",
       "      <td>гель для бровей wb😍</td>\n",
       "      <td>76</td>\n",
       "      <td>78</td>\n",
       "      <td>['https://sun6-21.userapi.com/impg/2KajpEpvHU5...</td>\n",
       "      <td>[704829093, 422933353, 482795060, 525614604, 5...</td>\n",
       "      <td>24616-196395451</td>\n",
       "    </tr>\n",
       "  </tbody>\n",
       "</table>\n",
       "</div>"
      ],
      "text/plain": [
       "      id   owner_id                date                 text  likes  reposts   \n",
       "0  24666 -196395451 2023-04-07 12:05:01              топ wb😻     80       48  \\\n",
       "1  24658 -196395451 2023-04-06 18:05:00           серьги wb🦋     43       18   \n",
       "2  24642 -196395451 2023-04-05 18:05:00              топ wb💗    108      107   \n",
       "3  24637 -196395451 2023-04-05 16:05:00           платье wb🤤     63      141   \n",
       "4  24616 -196395451 2023-04-04 18:45:00  гель для бровей wb😍     76       78   \n",
       "\n",
       "                                         attachments   \n",
       "0  ['https://sun6-21.userapi.com/impg/ttKRrIk8GGM...  \\\n",
       "1  ['https://sun6-23.userapi.com/impg/RRRCvHmln_a...   \n",
       "2  ['https://sun6-22.userapi.com/impg/O3fHlE6heq0...   \n",
       "3  ['https://sun6-21.userapi.com/impg/TEbkmBMtxDN...   \n",
       "4  ['https://sun6-21.userapi.com/impg/2KajpEpvHU5...   \n",
       "\n",
       "                                              likers        unique_id  \n",
       "0  [233973847, 272906420, 688902085, 722284040, 4...  24666-196395451  \n",
       "1  [625436056, 331203972, 367510803, 360551718, 2...  24658-196395451  \n",
       "2  [272906420, 653691291, 275786983, 534111598, 2...  24642-196395451  \n",
       "3  [532433339, 164663002, 543132528, 381103880, 2...  24637-196395451  \n",
       "4  [704829093, 422933353, 482795060, 525614604, 5...  24616-196395451  "
      ]
     },
     "execution_count": 3,
     "metadata": {},
     "output_type": "execute_result"
    }
   ],
   "source": [
    "items.head()"
   ]
  },
  {
   "cell_type": "code",
   "execution_count": 4,
   "metadata": {},
   "outputs": [],
   "source": [
    "items_np = items[['unique_id', 'likers']].to_numpy()"
   ]
  },
  {
   "cell_type": "code",
   "execution_count": 5,
   "metadata": {},
   "outputs": [
    {
     "name": "stderr",
     "output_type": "stream",
     "text": [
      "100%|██████████| 20191/20191 [00:01<00:00, 16763.46it/s]\n"
     ]
    }
   ],
   "source": [
    "def get_interactions(item_np):\n",
    "    unique_id = item_np[0]\n",
    "    likers = item_np[1]\n",
    "    return list(zip([unique_id] * len(likers), likers, [1.0] * len(likers)))\n",
    "\n",
    "interactions = []\n",
    "for item_np in tqdm(items_np): \n",
    "    interactions.extend(get_interactions(item_np))"
   ]
  },
  {
   "cell_type": "code",
   "execution_count": 20,
   "metadata": {},
   "outputs": [],
   "source": [
    "interactions = pd.DataFrame(interactions)\n",
    "interactions = interactions.rename(columns={0:'post_id', 1:'user_id', 2:'rating'})\n",
    "interactions.rating = interactions.rating.astype(np.bool_)\n",
    "interactions.user_id = interactions.user_id.astype(np.int32)\n",
    "interactions = interactions[['user_id', 'post_id', 'rating']]"
   ]
  },
  {
   "cell_type": "code",
   "execution_count": 21,
   "metadata": {},
   "outputs": [
    {
     "data": {
      "text/plain": [
       "30"
      ]
     },
     "execution_count": 21,
     "metadata": {},
     "output_type": "execute_result"
    }
   ],
   "source": [
    "# check that we can actually use int32 for user_id\n",
    "int(interactions.user_id.max()).bit_length()"
   ]
  },
  {
   "cell_type": "code",
   "execution_count": 22,
   "metadata": {},
   "outputs": [],
   "source": [
    "interactions.to_parquet('../data/processed/interactions.parquet.gzip', compression='gzip') "
   ]
  }
 ],
 "metadata": {
  "kernelspec": {
   "display_name": "venv",
   "language": "python",
   "name": "python3"
  },
  "language_info": {
   "codemirror_mode": {
    "name": "ipython",
    "version": 3
   },
   "file_extension": ".py",
   "mimetype": "text/x-python",
   "name": "python",
   "nbconvert_exporter": "python",
   "pygments_lexer": "ipython3",
   "version": "3.9.13"
  },
  "orig_nbformat": 4
 },
 "nbformat": 4,
 "nbformat_minor": 2
}
