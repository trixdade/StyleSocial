{
 "cells": [
  {
   "cell_type": "code",
   "execution_count": 118,
   "metadata": {},
   "outputs": [],
   "source": [
    "import pandas as pd\n",
    "import numpy as np\n",
    "import pickle\n",
    "import cornac\n",
    "from cornac.eval_methods import RatioSplit"
   ]
  },
  {
   "cell_type": "code",
   "execution_count": 3,
   "metadata": {},
   "outputs": [],
   "source": [
    "items = pd.read_parquet('../data/processed/items.parquet.gzip')\n",
    "users = pd.read_parquet('../data/processed/users.parquet.gzip')\n",
    "interactions = pd.read_parquet('../data/processed/interactions.parquet.gzip')"
   ]
  },
  {
   "cell_type": "code",
   "execution_count": 5,
   "metadata": {},
   "outputs": [],
   "source": [
    "feedback = list(interactions.itertuples(index=False, name=None))"
   ]
  },
  {
   "cell_type": "code",
   "execution_count": 9,
   "metadata": {},
   "outputs": [
    {
     "name": "stdout",
     "output_type": "stream",
     "text": [
      "rating_threshold = 1.0\n",
      "exclude_unknowns = True\n"
     ]
    },
    {
     "name": "stderr",
     "output_type": "stream",
     "text": [
      "c:\\Users\\Роман\\Thesis\\Project\\social-outfit-recommender\\venv\\lib\\site-packages\\cornac\\data\\dataset.py:361: UserWarning: 5029 duplicated observations are removed!\n",
      "  warnings.warn(\"%d duplicated observations are removed!\" % dup_count)\n"
     ]
    },
    {
     "name": "stdout",
     "output_type": "stream",
     "text": [
      "---\n",
      "Training data:\n",
      "Number of users = 67454\n",
      "Number of items = 20191\n",
      "Number of ratings = 3363663\n",
      "Max rating = 1.0\n",
      "Min rating = 1.0\n",
      "Global mean = 1.0\n"
     ]
    },
    {
     "name": "stderr",
     "output_type": "stream",
     "text": [
      "c:\\Users\\Роман\\Thesis\\Project\\social-outfit-recommender\\venv\\lib\\site-packages\\cornac\\data\\dataset.py:361: UserWarning: 95 duplicated observations are removed!\n",
      "  warnings.warn(\"%d duplicated observations are removed!\" % dup_count)\n"
     ]
    },
    {
     "name": "stdout",
     "output_type": "stream",
     "text": [
      "---\n",
      "Test data:\n",
      "Number of users = 53543\n",
      "Number of items = 20157\n",
      "Number of ratings = 449010\n",
      "Number of unknown users = 0\n",
      "Number of unknown items = 0\n"
     ]
    },
    {
     "name": "stderr",
     "output_type": "stream",
     "text": [
      "c:\\Users\\Роман\\Thesis\\Project\\social-outfit-recommender\\venv\\lib\\site-packages\\cornac\\data\\dataset.py:361: UserWarning: 205 duplicated observations are removed!\n",
      "  warnings.warn(\"%d duplicated observations are removed!\" % dup_count)\n"
     ]
    },
    {
     "name": "stdout",
     "output_type": "stream",
     "text": [
      "---\n",
      "Validation data:\n",
      "Number of users = 59044\n",
      "Number of items = 20187\n",
      "Number of ratings = 673468\n",
      "---\n",
      "Total users = 67454\n",
      "Total items = 20191\n"
     ]
    }
   ],
   "source": [
    "ratio_split = RatioSplit(\n",
    "    data=feedback,\n",
    "    test_size=0.1,\n",
    "    val_size=0.15,\n",
    "    exclude_unknowns=True,\n",
    "    verbose=True,\n",
    "    seed=123,\n",
    ")"
   ]
  },
  {
   "cell_type": "code",
   "execution_count": 10,
   "metadata": {},
   "outputs": [],
   "source": [
    "# Instantiate evaluation metrics\n",
    "ndcg_50 = cornac.metrics.NDCG(k=50)\n",
    "rec_50 = cornac.metrics.Recall(k=50)\n",
    "prec_50 = cornac.metrics.Precision(k=50)\n",
    "map_metr = cornac.metrics.MAP()\n",
    "metrics = [ndcg_50, rec_50, prec_50, map_metr]\n",
    "\n",
    "most_pop = cornac.models.MostPop()\n",
    "mf =  cornac.models.MF(k=30, max_iter=200, learning_rate=0.01, lambda_reg=0.02, seed=123, verbose=True),\n",
    "pmf = cornac.models.PMF(k=30, max_iter=200, learning_rate=0.001, lambda_reg=0.001, seed=123, verbose=True),\n",
    "bpr = cornac.models.BPR(k=30, max_iter=400, learning_rate=0.001, lambda_reg=0.001, seed=123, verbose=True)\n",
    "wbpr = cornac.models.WBPR(k=30, max_iter=400, learning_rate=0.001, lambda_reg=0.001, verbose=True)\n",
    "\n",
    "models = [most_pop, mf, pmf, bpr, wbpr]"
   ]
  },
  {
   "cell_type": "code",
   "execution_count": 13,
   "metadata": {},
   "outputs": [
    {
     "name": "stdout",
     "output_type": "stream",
     "text": [
      "\n",
      "[MostPop] Training started!\n",
      "\n",
      "[MostPop] Evaluation started!\n"
     ]
    },
    {
     "data": {
      "application/vnd.jupyter.widget-view+json": {
       "model_id": "7cc937832bde409295a4ea6bc684c269",
       "version_major": 2,
       "version_minor": 0
      },
      "text/plain": [
       "Ranking:   0%|          | 0/53543 [00:00<?, ?it/s]"
      ]
     },
     "metadata": {},
     "output_type": "display_data"
    },
    {
     "data": {
      "application/vnd.jupyter.widget-view+json": {
       "model_id": "7a728547c9a54b5a8582e9027dc39cee",
       "version_major": 2,
       "version_minor": 0
      },
      "text/plain": [
       "Ranking:   0%|          | 0/59044 [00:00<?, ?it/s]"
      ]
     },
     "metadata": {},
     "output_type": "display_data"
    },
    {
     "name": "stdout",
     "output_type": "stream",
     "text": [
      "\n",
      "[BPR] Training started!\n"
     ]
    },
    {
     "data": {
      "application/vnd.jupyter.widget-view+json": {
       "model_id": "39212d2d26fa4c529f234c1c8a1adfbe",
       "version_major": 2,
       "version_minor": 0
      },
      "text/plain": [
       "  0%|          | 0/400 [00:00<?, ?it/s]"
      ]
     },
     "metadata": {},
     "output_type": "display_data"
    },
    {
     "name": "stdout",
     "output_type": "stream",
     "text": [
      "Optimization finished!\n",
      "\n",
      "[BPR] Evaluation started!\n"
     ]
    },
    {
     "data": {
      "application/vnd.jupyter.widget-view+json": {
       "model_id": "9786caffe90744d8874edb486f05dc13",
       "version_major": 2,
       "version_minor": 0
      },
      "text/plain": [
       "Ranking:   0%|          | 0/53543 [00:00<?, ?it/s]"
      ]
     },
     "metadata": {},
     "output_type": "display_data"
    },
    {
     "data": {
      "application/vnd.jupyter.widget-view+json": {
       "model_id": "55de283a203e457ea7bb70c8d8ad0119",
       "version_major": 2,
       "version_minor": 0
      },
      "text/plain": [
       "Ranking:   0%|          | 0/59044 [00:00<?, ?it/s]"
      ]
     },
     "metadata": {},
     "output_type": "display_data"
    },
    {
     "name": "stdout",
     "output_type": "stream",
     "text": [
      "\n",
      "[WBPR] Training started!\n"
     ]
    },
    {
     "data": {
      "application/vnd.jupyter.widget-view+json": {
       "model_id": "f35a9111df8a4de3ac9f6166d645f3a0",
       "version_major": 2,
       "version_minor": 0
      },
      "text/plain": [
       "  0%|          | 0/400 [00:00<?, ?it/s]"
      ]
     },
     "metadata": {},
     "output_type": "display_data"
    },
    {
     "name": "stdout",
     "output_type": "stream",
     "text": [
      "Optimization finished!\n",
      "\n",
      "[WBPR] Evaluation started!\n"
     ]
    },
    {
     "data": {
      "application/vnd.jupyter.widget-view+json": {
       "model_id": "2946cca67f4c49939d8ce998f67d1216",
       "version_major": 2,
       "version_minor": 0
      },
      "text/plain": [
       "Ranking:   0%|          | 0/53543 [00:00<?, ?it/s]"
      ]
     },
     "metadata": {},
     "output_type": "display_data"
    },
    {
     "data": {
      "application/vnd.jupyter.widget-view+json": {
       "model_id": "e1ddccc1754644fd9c8467076f7fb97f",
       "version_major": 2,
       "version_minor": 0
      },
      "text/plain": [
       "Ranking:   0%|          | 0/59044 [00:00<?, ?it/s]"
      ]
     },
     "metadata": {},
     "output_type": "display_data"
    },
    {
     "name": "stdout",
     "output_type": "stream",
     "text": [
      "\n",
      "VALIDATION:\n",
      "...\n",
      "        |    MAP | NDCG@50 | Precision@50 | Recall@50 | Time (s)\n",
      "------- + ------ + ------- + ------------ + --------- + --------\n",
      "MostPop | 0.0035 |  0.0065 |       0.0023 |    0.0143 | 233.7985\n",
      "BPR     | 0.0141 |  0.0295 |       0.0106 |    0.0603 | 609.6479\n",
      "WBPR    | 0.0165 |  0.0353 |       0.0115 |    0.0754 | 634.7556\n",
      "\n",
      "TEST:\n",
      "...\n",
      "        |    MAP | NDCG@50 | Precision@50 | Recall@50 | Train (s) | Test (s)\n",
      "------- + ------ + ------- + ------------ + --------- + --------- + --------\n",
      "MostPop | 0.0032 |  0.0060 |       0.0017 |    0.0145 |    0.3739 | 202.0260\n",
      "BPR     | 0.0123 |  0.0263 |       0.0078 |    0.0599 |  695.7398 | 563.3354\n",
      "WBPR    | 0.0146 |  0.0318 |       0.0085 |    0.0754 |  443.1084 | 586.7267\n",
      "\n"
     ]
    }
   ],
   "source": [
    "# Put everything together into an experiment and run it\n",
    "cornac.Experiment(\n",
    "    eval_method=ratio_split,\n",
    "    models=models,\n",
    "    metrics=metrics,\n",
    "    user_based=True, \n",
    "    show_validation=True, \n",
    ").run()"
   ]
  },
  {
   "cell_type": "code",
   "execution_count": 14,
   "metadata": {},
   "outputs": [],
   "source": [
    "# Instantiate the recommender models to be compared\n",
    "gmf = cornac.models.GMF(\n",
    "    num_factors=8,\n",
    "    num_epochs=10,\n",
    "    learner=\"adam\",\n",
    "    batch_size=256,\n",
    "    lr=0.001,\n",
    "    num_neg=50,\n",
    "    seed=123,\n",
    "    verbose=True,\n",
    ")\n",
    "mlp = cornac.models.MLP(\n",
    "    layers=[64, 32, 16, 8],\n",
    "    act_fn=\"tanh\",\n",
    "    learner=\"adam\",\n",
    "    num_epochs=10,\n",
    "    batch_size=256,\n",
    "    lr=0.001,\n",
    "    num_neg=50,\n",
    "    seed=123,\n",
    "    verbose=True\n",
    ")\n",
    "neumf1 = cornac.models.NeuMF(\n",
    "    num_factors=8,\n",
    "    layers=[64, 32, 16, 8],\n",
    "    act_fn=\"tanh\",\n",
    "    learner=\"adam\",\n",
    "    num_epochs=20,\n",
    "    batch_size=256,\n",
    "    lr=0.001,\n",
    "    num_neg=50,\n",
    "    seed=123,\n",
    "    verbose=True,\n",
    ")\n",
    "neumf2 = cornac.models.NeuMF(\n",
    "    name=\"NeuMF_pretrained\",\n",
    "    learner=\"adam\",\n",
    "    num_epochs=20,\n",
    "    batch_size=256,\n",
    "    lr=0.001,\n",
    "    num_neg=50,\n",
    "    seed=123,\n",
    "    num_factors=gmf.num_factors,\n",
    "    layers=mlp.layers,\n",
    "    act_fn=mlp.act_fn,\n",
    "    verbose=True\n",
    ").pretrain(gmf, mlp)\n",
    "\n"
   ]
  },
  {
   "cell_type": "code",
   "execution_count": 15,
   "metadata": {},
   "outputs": [
    {
     "name": "stdout",
     "output_type": "stream",
     "text": [
      "\n",
      "[GMF] Training started!\n"
     ]
    },
    {
     "data": {
      "application/vnd.jupyter.widget-view+json": {
       "model_id": "cf17ab2869f04dfab9c2914b1fc3217d",
       "version_major": 2,
       "version_minor": 0
      },
      "text/plain": [
       "  0%|          | 0/10 [00:00<?, ?it/s]"
      ]
     },
     "metadata": {},
     "output_type": "display_data"
    },
    {
     "name": "stdout",
     "output_type": "stream",
     "text": [
      "\n",
      "[GMF] Evaluation started!\n"
     ]
    },
    {
     "data": {
      "application/vnd.jupyter.widget-view+json": {
       "model_id": "702b83c9bbf34066a32ff595e7afe13b",
       "version_major": 2,
       "version_minor": 0
      },
      "text/plain": [
       "Ranking:   0%|          | 0/53543 [00:00<?, ?it/s]"
      ]
     },
     "metadata": {},
     "output_type": "display_data"
    },
    {
     "data": {
      "application/vnd.jupyter.widget-view+json": {
       "model_id": "c0372afe3eeb471bba1acd88c9d673cb",
       "version_major": 2,
       "version_minor": 0
      },
      "text/plain": [
       "Ranking:   0%|          | 0/59044 [00:00<?, ?it/s]"
      ]
     },
     "metadata": {},
     "output_type": "display_data"
    },
    {
     "name": "stdout",
     "output_type": "stream",
     "text": [
      "\n",
      "[MLP] Training started!\n"
     ]
    },
    {
     "data": {
      "application/vnd.jupyter.widget-view+json": {
       "model_id": "732696313d4341b78c68b419c41f78de",
       "version_major": 2,
       "version_minor": 0
      },
      "text/plain": [
       "  0%|          | 0/10 [00:00<?, ?it/s]"
      ]
     },
     "metadata": {},
     "output_type": "display_data"
    },
    {
     "name": "stdout",
     "output_type": "stream",
     "text": [
      "\n",
      "[MLP] Evaluation started!\n"
     ]
    },
    {
     "data": {
      "application/vnd.jupyter.widget-view+json": {
       "model_id": "176f5f2c26d04db995b38b52bd5d0dce",
       "version_major": 2,
       "version_minor": 0
      },
      "text/plain": [
       "Ranking:   0%|          | 0/53543 [00:00<?, ?it/s]"
      ]
     },
     "metadata": {},
     "output_type": "display_data"
    },
    {
     "data": {
      "application/vnd.jupyter.widget-view+json": {
       "model_id": "26cd5edc5c5e48278e2ef971db1f0183",
       "version_major": 2,
       "version_minor": 0
      },
      "text/plain": [
       "Ranking:   0%|          | 0/59044 [00:00<?, ?it/s]"
      ]
     },
     "metadata": {},
     "output_type": "display_data"
    },
    {
     "name": "stdout",
     "output_type": "stream",
     "text": [
      "\n",
      "[NeuMF] Training started!\n"
     ]
    },
    {
     "data": {
      "application/vnd.jupyter.widget-view+json": {
       "model_id": "900843d14f2d4fe5a3008d5e8233a126",
       "version_major": 2,
       "version_minor": 0
      },
      "text/plain": [
       "  0%|          | 0/20 [00:00<?, ?it/s]"
      ]
     },
     "metadata": {},
     "output_type": "display_data"
    },
    {
     "name": "stdout",
     "output_type": "stream",
     "text": [
      "\n",
      "[NeuMF] Evaluation started!\n"
     ]
    },
    {
     "data": {
      "application/vnd.jupyter.widget-view+json": {
       "model_id": "1c58d8556f24481d973342defd7d624f",
       "version_major": 2,
       "version_minor": 0
      },
      "text/plain": [
       "Ranking:   0%|          | 0/53543 [00:00<?, ?it/s]"
      ]
     },
     "metadata": {},
     "output_type": "display_data"
    },
    {
     "data": {
      "application/vnd.jupyter.widget-view+json": {
       "model_id": "8482c71ddf3a4d9eb5dac20a814b26d1",
       "version_major": 2,
       "version_minor": 0
      },
      "text/plain": [
       "Ranking:   0%|          | 0/59044 [00:00<?, ?it/s]"
      ]
     },
     "metadata": {},
     "output_type": "display_data"
    },
    {
     "name": "stdout",
     "output_type": "stream",
     "text": [
      "\n",
      "[NeuMF_pretrained] Training started!\n"
     ]
    },
    {
     "data": {
      "application/vnd.jupyter.widget-view+json": {
       "model_id": "4abe971ae5d44379badcc27a187b0b49",
       "version_major": 2,
       "version_minor": 0
      },
      "text/plain": [
       "  0%|          | 0/20 [00:00<?, ?it/s]"
      ]
     },
     "metadata": {},
     "output_type": "display_data"
    },
    {
     "name": "stdout",
     "output_type": "stream",
     "text": [
      "\n",
      "[NeuMF_pretrained] Evaluation started!\n"
     ]
    },
    {
     "data": {
      "application/vnd.jupyter.widget-view+json": {
       "model_id": "362cb00b68c847e2b28a8325033bc211",
       "version_major": 2,
       "version_minor": 0
      },
      "text/plain": [
       "Ranking:   0%|          | 0/53543 [00:00<?, ?it/s]"
      ]
     },
     "metadata": {},
     "output_type": "display_data"
    },
    {
     "data": {
      "application/vnd.jupyter.widget-view+json": {
       "model_id": "fd5fe95f4b1944daa1596ef4d3a0c66d",
       "version_major": 2,
       "version_minor": 0
      },
      "text/plain": [
       "Ranking:   0%|          | 0/59044 [00:00<?, ?it/s]"
      ]
     },
     "metadata": {},
     "output_type": "display_data"
    },
    {
     "name": "stdout",
     "output_type": "stream",
     "text": [
      "\n",
      "VALIDATION:\n",
      "...\n",
      "                 |    MAP | NDCG@50 | Precision@50 | Recall@50 | Time (s)\n",
      "---------------- + ------ + ------- + ------------ + --------- + --------\n",
      "GMF              | 0.0179 |  0.0387 |       0.0126 |    0.0845 | 360.1399\n",
      "MLP              | 0.0223 |  0.0488 |       0.0149 |    0.1081 | 906.1952\n",
      "NeuMF            | 0.0200 |  0.0441 |       0.0129 |    0.1018 | 984.2480\n",
      "NeuMF_pretrained | 0.0211 |  0.0471 |       0.0141 |    0.1069 | 802.1427\n",
      "\n",
      "TEST:\n",
      "...\n",
      "                 |    MAP | NDCG@50 | Precision@50 | Recall@50 |  Train (s) | Test (s)\n",
      "---------------- + ------ + ------- + ------------ + --------- + ---------- + --------\n",
      "GMF              | 0.0161 |  0.0352 |       0.0093 |    0.0849 | 28575.1548 | 333.9424\n",
      "MLP              | 0.0195 |  0.0434 |       0.0109 |    0.1064 | 30695.6753 | 841.1369\n",
      "NeuMF            | 0.0174 |  0.0388 |       0.0094 |    0.0983 | 60843.6664 | 909.4717\n",
      "NeuMF_pretrained | 0.0191 |  0.0425 |       0.0103 |    0.1060 | 66395.0623 | 737.0431\n",
      "\n"
     ]
    }
   ],
   "source": [
    "# Put everything together into an experiment and run it\n",
    "cornac.Experiment(\n",
    "    eval_method=ratio_split,\n",
    "    models=[gmf, mlp, neumf1, neumf2],\n",
    "    metrics=metrics,\n",
    "    user_based=True, \n",
    "    show_validation=True, \n",
    ").run()"
   ]
  },
  {
   "cell_type": "code",
   "execution_count": null,
   "metadata": {},
   "outputs": [],
   "source": [
    "with open('train_set.pkl', 'wb') as f:\n",
    "    pickle.dump(mlp.train_set, f)"
   ]
  },
  {
   "cell_type": "code",
   "execution_count": 120,
   "metadata": {},
   "outputs": [],
   "source": [
    "with open('train_set.pkl', 'rb') as f:\n",
    "    train_set_load = pickle.load(f)\n",
    "\n",
    "# mlp2.train_set = train_set_load"
   ]
  },
  {
   "attachments": {},
   "cell_type": "markdown",
   "metadata": {},
   "source": [
    "# Recommendations Example"
   ]
  },
  {
   "cell_type": "code",
   "execution_count": 104,
   "metadata": {},
   "outputs": [
    {
     "data": {
      "text/html": [
       "<div>\n",
       "<style scoped>\n",
       "    .dataframe tbody tr th:only-of-type {\n",
       "        vertical-align: middle;\n",
       "    }\n",
       "\n",
       "    .dataframe tbody tr th {\n",
       "        vertical-align: top;\n",
       "    }\n",
       "\n",
       "    .dataframe thead th {\n",
       "        text-align: right;\n",
       "    }\n",
       "</style>\n",
       "<table border=\"1\" class=\"dataframe\">\n",
       "  <thead>\n",
       "    <tr style=\"text-align: right;\">\n",
       "      <th></th>\n",
       "      <th>id</th>\n",
       "      <th>owner_id</th>\n",
       "      <th>date</th>\n",
       "      <th>text</th>\n",
       "      <th>likes</th>\n",
       "      <th>reposts</th>\n",
       "      <th>attachments</th>\n",
       "      <th>likers</th>\n",
       "      <th>unique_id</th>\n",
       "    </tr>\n",
       "  </thead>\n",
       "  <tbody>\n",
       "    <tr>\n",
       "      <th>929</th>\n",
       "      <td>894</td>\n",
       "      <td>-196395451</td>\n",
       "      <td>2020-11-26 15:49:10</td>\n",
       "      <td>этот свитер лучшее, что я встречала🤧\\n\\nиз плю...</td>\n",
       "      <td>192</td>\n",
       "      <td>28</td>\n",
       "      <td>['https://sun6-23.userapi.com/impg/xxXZ6PuuUZq...</td>\n",
       "      <td>[47135954, 70033750, 82021529, 113275938, 1199...</td>\n",
       "      <td>894-196395451</td>\n",
       "    </tr>\n",
       "  </tbody>\n",
       "</table>\n",
       "</div>"
      ],
      "text/plain": [
       "      id   owner_id                date   \n",
       "929  894 -196395451 2020-11-26 15:49:10  \\\n",
       "\n",
       "                                                  text  likes  reposts   \n",
       "929  этот свитер лучшее, что я встречала🤧\\n\\nиз плю...    192       28  \\\n",
       "\n",
       "                                           attachments   \n",
       "929  ['https://sun6-23.userapi.com/impg/xxXZ6PuuUZq...  \\\n",
       "\n",
       "                                                likers      unique_id  \n",
       "929  [47135954, 70033750, 82021529, 113275938, 1199...  894-196395451  "
      ]
     },
     "execution_count": 104,
     "metadata": {},
     "output_type": "execute_result"
    }
   ],
   "source": [
    "# show the best recommendation to the user with id = uid\n",
    "uid = 8\n",
    "rec_id = mlp.rank(uid)[0][np.argmax(mlp.rank(uid)[1])]\n",
    "for i in ratio_split.test_set.iid_map.items():\n",
    "    if i[1] == rec_id:\n",
    "        iid = i[0]\n",
    "items.query('unique_id == @iid')"
   ]
  }
 ],
 "metadata": {
  "kernelspec": {
   "display_name": "venv",
   "language": "python",
   "name": "python3"
  },
  "language_info": {
   "codemirror_mode": {
    "name": "ipython",
    "version": 3
   },
   "file_extension": ".py",
   "mimetype": "text/x-python",
   "name": "python",
   "nbconvert_exporter": "python",
   "pygments_lexer": "ipython3",
   "version": "3.9.13"
  },
  "orig_nbformat": 4
 },
 "nbformat": 4,
 "nbformat_minor": 2
}
