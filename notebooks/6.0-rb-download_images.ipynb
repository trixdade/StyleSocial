{
 "cells": [
  {
   "cell_type": "code",
   "execution_count": 64,
   "metadata": {},
   "outputs": [
    {
     "name": "stdout",
     "output_type": "stream",
     "text": [
      "Starting the downloading of this file\n",
      "Sharding file number 1 of 1 called C:/Users/local/Documents/Roma_thesis/StyleSocial/data/processed/items_separate.parquet\n"
     ]
    },
    {
     "name": "stderr",
     "output_type": "stream",
     "text": [
      "0it [00:00, ?it/s]"
     ]
    },
    {
     "name": "stdout",
     "output_type": "stream",
     "text": [
      "File sharded in 106 shards\n",
      "Downloading starting now, check your bandwidth speed (with bwm-ng)your cpu (with htop), and your disk usage (with iotop)!\n"
     ]
    },
    {
     "name": "stderr",
     "output_type": "stream",
     "text": [
      "106it [51:31, 29.16s/it]\n",
      "Traceback (most recent call last):\n",
      "  File \"C:\\Program Files\\WindowsApps\\PythonSoftwareFoundation.Python.3.8_3.8.2800.0_x64__qbz5n2kfra8p0\\lib\\multiprocessing\\queues.py\", line 241, in _feed\n",
      "    send_bytes(obj)\n",
      "  File \"C:\\Program Files\\WindowsApps\\PythonSoftwareFoundation.Python.3.8_3.8.2800.0_x64__qbz5n2kfra8p0\\lib\\multiprocessing\\connection.py\", line 200, in send_bytes\n",
      "    self._send_bytes(m[offset:offset + size])\n",
      "  File \"C:\\Program Files\\WindowsApps\\PythonSoftwareFoundation.Python.3.8_3.8.2800.0_x64__qbz5n2kfra8p0\\lib\\multiprocessing\\connection.py\", line 280, in _send_bytes\n",
      "    ov, err = _winapi.WriteFile(self._handle, buf, overlapped=True)\n",
      "BrokenPipeError: [WinError 232] Идет закрытие канала\n"
     ]
    }
   ],
   "source": [
    "import os\n",
    "import ast\n",
    "import pandas as pd\n",
    "from img2dataset import download\n",
    "\n",
    "\n",
    "output_dir = os.path.abspath(\"../data/items_images/\")\n",
    "items = pd.read_parquet('../data/processed/items.parquet.gzip')\n",
    "# attachments stored as a str, so I convert it to list\n",
    "items.attachments = items.attachments.apply(ast.literal_eval)\n",
    "\n",
    "# make separate row for each attachment in each post\n",
    "separate_attch = items.explode('attachments').reset_index(drop=True)\n",
    "separate_attch = separate_attch[['unique_id', 'attachments']]\n",
    "separate_atcch.to_parquet('../data/processed/items_separate.parquet')\n",
    "\n",
    "# shard 106k attachments for 106 shards by 1000 attachments and download them in parallel\n",
    "download(\n",
    "    processes_count=1,\n",
    "    thread_count=128,\n",
    "    url_list='../data/processed/items_separate.parquet',\n",
    "    image_size=256,\n",
    "    output_folder=output_dir,\n",
    "    output_format=\"files\",\n",
    "    input_format=\"parquet\",\n",
    "    url_col=\"attachments\",\n",
    "    caption_col=\"unique_id\",\n",
    "    enable_wandb=True,\n",
    "    retries=3,\n",
    "    number_sample_per_shard=1000,\n",
    "    distributor=\"multiprocessing\",\n",
    "    max_shard_retry=3\n",
    ")"
   ]
  }
 ],
 "metadata": {
  "kernelspec": {
   "display_name": "venv",
   "language": "python",
   "name": "python3"
  },
  "language_info": {
   "codemirror_mode": {
    "name": "ipython",
    "version": 3
   },
   "file_extension": ".py",
   "mimetype": "text/x-python",
   "name": "python",
   "nbconvert_exporter": "python",
   "pygments_lexer": "ipython3",
   "version": "3.8.10"
  },
  "orig_nbformat": 4
 },
 "nbformat": 4,
 "nbformat_minor": 2
}
