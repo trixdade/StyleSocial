{
 "cells": [
  {
   "cell_type": "code",
   "execution_count": 15,
   "metadata": {},
   "outputs": [
    {
     "name": "stderr",
     "output_type": "stream",
     "text": [
      "100%|██████████| 106/106 [03:46<00:00,  2.14s/it]\n"
     ]
    }
   ],
   "source": [
    "import os \n",
    "import shutil\n",
    "from tqdm import tqdm\n",
    "\n",
    "data_dir = '../data/items_images_copy/'\n",
    "\n",
    "for folder in tqdm(os.listdir(data_dir)):\n",
    "    folder_path = data_dir + '/' + folder\n",
    "    for file in os.listdir(folder_path):\n",
    "        if file.endswith('.jpg'):\n",
    "            image_path = folder_path + '/' + file      \n",
    "            with open(folder_path + '/' + file.replace('.jpg', '.txt'), 'r') as f:\n",
    "                category = f.read()\n",
    "            category_path = data_dir + '/' + category       \n",
    "            if not os.path.exists(category_path):\n",
    "                os.mkdir(category_path)\n",
    "            shutil.move(image_path, category_path)"
   ]
  }
 ],
 "metadata": {
  "kernelspec": {
   "display_name": "venv",
   "language": "python",
   "name": "python3"
  },
  "language_info": {
   "codemirror_mode": {
    "name": "ipython",
    "version": 3
   },
   "file_extension": ".py",
   "mimetype": "text/x-python",
   "name": "python",
   "nbconvert_exporter": "python",
   "pygments_lexer": "ipython3",
   "version": "3.8.10"
  },
  "orig_nbformat": 4
 },
 "nbformat": 4,
 "nbformat_minor": 2
}
